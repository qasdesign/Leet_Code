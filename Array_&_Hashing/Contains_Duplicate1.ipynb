{
 "cells": [
  {
   "cell_type": "markdown",
   "id": "9509fdc2",
   "metadata": {},
   "source": [
    "# Contains Duplicate"
   ]
  },
  {
   "cell_type": "markdown",
   "id": "b62f2314",
   "metadata": {},
   "source": [
    "Given an integer array nums, return true if any value appears at least twice in the array, and return false if every element is distinct."
   ]
  },
  {
   "cell_type": "markdown",
   "id": "65e22954",
   "metadata": {},
   "source": [
    "Solution using Hashset"
   ]
  },
  {
   "cell_type": "code",
   "execution_count": 5,
   "id": "8eb2308e",
   "metadata": {},
   "outputs": [],
   "source": [
    "def containsDuplicate(nums):\n",
    "        hashset = set()\n",
    "        for n in nums:\n",
    "            if n in hashset:\n",
    "                return True\n",
    "            hashset.add(n)\n",
    "        return False"
   ]
  },
  {
   "cell_type": "code",
   "execution_count": 6,
   "id": "8e373b87",
   "metadata": {},
   "outputs": [
    {
     "data": {
      "text/plain": [
       "True"
      ]
     },
     "execution_count": 6,
     "metadata": {},
     "output_type": "execute_result"
    }
   ],
   "source": [
    "nums = [1,2,3,3]\n",
    "containsDuplicate(nums)"
   ]
  },
  {
   "cell_type": "markdown",
   "id": "0faeca48",
   "metadata": {},
   "source": [
    "Solution using Brute Force"
   ]
  },
  {
   "cell_type": "code",
   "execution_count": 7,
   "id": "94e51efe",
   "metadata": {},
   "outputs": [],
   "source": [
    "def containsDuplicate2(nums):\n",
    "    for i, n in enumerate(nums):\n",
    "            for j in range(i+1,len(nums)):\n",
    "                if n==nums[j]: return True\n",
    "    return False"
   ]
  },
  {
   "cell_type": "code",
   "execution_count": 8,
   "id": "870b0b15",
   "metadata": {},
   "outputs": [
    {
     "data": {
      "text/plain": [
       "True"
      ]
     },
     "execution_count": 8,
     "metadata": {},
     "output_type": "execute_result"
    }
   ],
   "source": [
    "containsDuplicate2([1,2,3,4,4,6])"
   ]
  }
 ],
 "metadata": {
  "kernelspec": {
   "display_name": "Python 3",
   "language": "python",
   "name": "python3"
  },
  "language_info": {
   "codemirror_mode": {
    "name": "ipython",
    "version": 3
   },
   "file_extension": ".py",
   "mimetype": "text/x-python",
   "name": "python",
   "nbconvert_exporter": "python",
   "pygments_lexer": "ipython3",
   "version": "3.8.8"
  }
 },
 "nbformat": 4,
 "nbformat_minor": 5
}
